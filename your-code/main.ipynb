{
 "cells": [
  {
   "cell_type": "markdown",
   "metadata": {},
   "source": [
    "# Intrduction to NumPy\n",
    "\n",
    "\n",
    "#### 1. Import NumPy under the name np."
   ]
  },
  {
   "cell_type": "code",
   "execution_count": 5,
   "metadata": {},
   "outputs": [],
   "source": [
    "import numpy as np"
   ]
  },
  {
   "cell_type": "markdown",
   "metadata": {},
   "source": [
    "#### 2. Print your NumPy version."
   ]
  },
  {
   "cell_type": "code",
   "execution_count": 11,
   "metadata": {},
   "outputs": [
    {
     "name": "stdout",
     "output_type": "stream",
     "text": [
      "1.18.1\n"
     ]
    }
   ],
   "source": [
    "version=(np.version.full_version)\n",
    "print(version)"
   ]
  },
  {
   "cell_type": "markdown",
   "metadata": {},
   "source": [
    "#### 3. Generate a 2x3x5 3-dimensional array with random values. Assign the array to variable *a*.\n",
    "**Challenge**: there are at least three easy ways that use numpy to generate random arrays. How many ways can you find?"
   ]
  },
  {
   "cell_type": "code",
   "execution_count": 23,
   "metadata": {},
   "outputs": [
    {
     "name": "stdout",
     "output_type": "stream",
     "text": [
      "[[[1 5 3 6 0]\n",
      "  [0 6 4 2 5]\n",
      "  [2 6 3 8 9]]\n",
      "\n",
      " [[9 4 6 7 5]\n",
      "  [8 5 4 1 2]\n",
      "  [5 5 4 3 0]]]\n"
     ]
    }
   ],
   "source": [
    "a1=np.random.randint(0,10,(2,3,5))\n",
    "print(a1)\n",
    "#random1.shape   Just to confirm size of array"
   ]
  },
  {
   "cell_type": "code",
   "execution_count": 24,
   "metadata": {},
   "outputs": [
    {
     "name": "stdout",
     "output_type": "stream",
     "text": [
      "[[[0.67440859 0.74700771 0.95252595 0.38067559 0.46250386]\n",
      "  [0.63692971 0.60698347 0.66414362 0.546691   0.96149726]\n",
      "  [0.34470589 0.36839297 0.96529132 0.6990608  0.39070748]]\n",
      "\n",
      " [[0.82344878 0.60008979 0.65025927 0.77981089 0.6061534 ]\n",
      "  [0.17477463 0.47968541 0.66948582 0.75431781 0.64696164]\n",
      "  [0.34122346 0.31185962 0.19350572 0.61228023 0.42287943]]]\n"
     ]
    }
   ],
   "source": [
    "a2=np.random.random_sample((2,3,5))\n",
    "print(a2)"
   ]
  },
  {
   "cell_type": "code",
   "execution_count": 25,
   "metadata": {},
   "outputs": [
    {
     "name": "stdout",
     "output_type": "stream",
     "text": [
      "[[[-0.39426959 -0.7430547  -0.74486398  0.2146897  -0.38725388]\n",
      "  [-2.68673751 -0.30574227  2.00110512  0.47824955  0.47454347]\n",
      "  [ 0.93792597  0.54889427 -0.43255654 -2.69411428  1.74261203]]\n",
      "\n",
      " [[-0.21035021  0.72755833  0.52946138  1.31150148 -0.62946888]\n",
      "  [ 0.89052543  0.09708348 -0.22734488  0.39204699 -0.61825841]\n",
      "  [ 1.04552259 -0.1345551   0.63855989  0.21042289 -0.31589855]]]\n"
     ]
    }
   ],
   "source": [
    "a3=np.random.randn(2,3,5)\n",
    "print(a3)"
   ]
  },
  {
   "cell_type": "markdown",
   "metadata": {},
   "source": [
    "#### 4. Print *a*.\n"
   ]
  },
  {
   "cell_type": "code",
   "execution_count": 26,
   "metadata": {},
   "outputs": [
    {
     "name": "stdout",
     "output_type": "stream",
     "text": [
      "[[[1 5 3 6 0]\n",
      "  [0 6 4 2 5]\n",
      "  [2 6 3 8 9]]\n",
      "\n",
      " [[9 4 6 7 5]\n",
      "  [8 5 4 1 2]\n",
      "  [5 5 4 3 0]]]\n"
     ]
    }
   ],
   "source": [
    "a=a1\n",
    "print(a)"
   ]
  },
  {
   "cell_type": "markdown",
   "metadata": {},
   "source": [
    "#### 5. Create a 5x2x3 3-dimensional array with all values equaling 1. Assign the array to variable *b*."
   ]
  },
  {
   "cell_type": "code",
   "execution_count": 52,
   "metadata": {},
   "outputs": [
    {
     "name": "stdout",
     "output_type": "stream",
     "text": [
      "[[[1 1 1]\n",
      "  [1 1 1]]\n",
      "\n",
      " [[1 1 1]\n",
      "  [1 1 1]]\n",
      "\n",
      " [[1 1 1]\n",
      "  [1 1 1]]\n",
      "\n",
      " [[1 1 1]\n",
      "  [1 1 1]]\n",
      "\n",
      " [[1 1 1]\n",
      "  [1 1 1]]]\n"
     ]
    }
   ],
   "source": [
    "b=np.random.randint(1,2,(5,2,3))\n",
    "print(b)"
   ]
  },
  {
   "cell_type": "markdown",
   "metadata": {},
   "source": [
    "#### 6. Print *b*.\n"
   ]
  },
  {
   "cell_type": "code",
   "execution_count": 53,
   "metadata": {},
   "outputs": [
    {
     "name": "stdout",
     "output_type": "stream",
     "text": [
      "[[[1 1 1]\n",
      "  [1 1 1]]\n",
      "\n",
      " [[1 1 1]\n",
      "  [1 1 1]]\n",
      "\n",
      " [[1 1 1]\n",
      "  [1 1 1]]\n",
      "\n",
      " [[1 1 1]\n",
      "  [1 1 1]]\n",
      "\n",
      " [[1 1 1]\n",
      "  [1 1 1]]]\n"
     ]
    }
   ],
   "source": [
    "print(b)"
   ]
  },
  {
   "cell_type": "markdown",
   "metadata": {},
   "source": [
    "#### 7. Do *a* and *b* have the same size? How do you prove that in Python code?"
   ]
  },
  {
   "cell_type": "code",
   "execution_count": 54,
   "metadata": {},
   "outputs": [
    {
     "name": "stdout",
     "output_type": "stream",
     "text": [
      "(2, 3, 5)\n",
      "(5, 2, 3)\n",
      "False\n"
     ]
    }
   ],
   "source": [
    "print(a.shape)\n",
    "print(b.shape)\n",
    "print(a.shape==b.shape)"
   ]
  },
  {
   "cell_type": "markdown",
   "metadata": {},
   "source": [
    "#### 8. Are you able to add *a* and *b*? Why or why not?\n"
   ]
  },
  {
   "cell_type": "code",
   "execution_count": 55,
   "metadata": {},
   "outputs": [
    {
     "ename": "ValueError",
     "evalue": "operands could not be broadcast together with shapes (2,3,5) (5,2,3) ",
     "output_type": "error",
     "traceback": [
      "\u001b[1;31m---------------------------------------------------------------------------\u001b[0m",
      "\u001b[1;31mValueError\u001b[0m                                Traceback (most recent call last)",
      "\u001b[1;32m<ipython-input-55-229d0384058f>\u001b[0m in \u001b[0;36m<module>\u001b[1;34m\u001b[0m\n\u001b[1;32m----> 1\u001b[1;33m \u001b[0ma_soma_b\u001b[0m\u001b[1;33m=\u001b[0m\u001b[0ma\u001b[0m\u001b[1;33m+\u001b[0m\u001b[0mb\u001b[0m \u001b[1;31m#NO! Because they are not the same size\u001b[0m\u001b[1;33m\u001b[0m\u001b[1;33m\u001b[0m\u001b[0m\n\u001b[0m",
      "\u001b[1;31mValueError\u001b[0m: operands could not be broadcast together with shapes (2,3,5) (5,2,3) "
     ]
    }
   ],
   "source": [
    "a_soma_b=a+b #NO! Because they are not the same size"
   ]
  },
  {
   "cell_type": "markdown",
   "metadata": {},
   "source": [
    "#### 9. Transpose *b* so that it has the same structure of *a* (i.e. become a 2x3x5 array). Assign the transposed array to variable *c*."
   ]
  },
  {
   "cell_type": "code",
   "execution_count": 72,
   "metadata": {},
   "outputs": [
    {
     "name": "stdout",
     "output_type": "stream",
     "text": [
      "(2, 3, 5)\n"
     ]
    }
   ],
   "source": [
    "c=np.transpose(b,) #Didn't work\n",
    "\n",
    "#c=b.reshape(2,3,5)\n",
    "\n",
    "print(c.shape)"
   ]
  },
  {
   "cell_type": "markdown",
   "metadata": {},
   "source": [
    "#### 10. Try to add *a* and *c*. Now it should work. Assign the sum to variable *d*. But why does it work now?"
   ]
  },
  {
   "cell_type": "code",
   "execution_count": 148,
   "metadata": {},
   "outputs": [
    {
     "name": "stdout",
     "output_type": "stream",
     "text": [
      "[[[ 2  6  4  7  1]\n",
      "  [ 1  7  5  3  6]\n",
      "  [ 3  7  4  9 10]]\n",
      "\n",
      " [[10  5  7  8  6]\n",
      "  [ 9  6  5  2  3]\n",
      "  [ 6  6  5  4  1]]]\n",
      "(2, 3, 5)\n",
      "(2, 3, 5)\n"
     ]
    }
   ],
   "source": [
    "d=a+c #yes they are now the same size\n",
    "\n",
    "print(d)\n",
    "print(a.shape)\n",
    "print(c.shape)"
   ]
  },
  {
   "cell_type": "markdown",
   "metadata": {},
   "source": [
    "#### 11. Print *a* and *d*. Notice the difference and relation of the two array in terms of the values? Explain."
   ]
  },
  {
   "cell_type": "code",
   "execution_count": 149,
   "metadata": {},
   "outputs": [
    {
     "name": "stdout",
     "output_type": "stream",
     "text": [
      "[[[1 5 3 6 0]\n",
      "  [0 6 4 2 5]\n",
      "  [2 6 3 8 9]]\n",
      "\n",
      " [[9 4 6 7 5]\n",
      "  [8 5 4 1 2]\n",
      "  [5 5 4 3 0]]]\n",
      "[[[ 2  6  4  7  1]\n",
      "  [ 1  7  5  3  6]\n",
      "  [ 3  7  4  9 10]]\n",
      "\n",
      " [[10  5  7  8  6]\n",
      "  [ 9  6  5  2  3]\n",
      "  [ 6  6  5  4  1]]]\n"
     ]
    }
   ],
   "source": [
    "print(a)\n",
    "print(d)\n",
    "\n",
    "#d is equal to array a adding the value 1"
   ]
  },
  {
   "cell_type": "markdown",
   "metadata": {},
   "source": [
    "#### 12. Multiply *a* and *c*. Assign the result to *e*."
   ]
  },
  {
   "cell_type": "code",
   "execution_count": 150,
   "metadata": {},
   "outputs": [
    {
     "name": "stdout",
     "output_type": "stream",
     "text": [
      "[[[1 5 3 6 0]\n",
      "  [0 6 4 2 5]\n",
      "  [2 6 3 8 9]]\n",
      "\n",
      " [[9 4 6 7 5]\n",
      "  [8 5 4 1 2]\n",
      "  [5 5 4 3 0]]]\n"
     ]
    }
   ],
   "source": [
    "e=a*c\n",
    "print(e)"
   ]
  },
  {
   "cell_type": "markdown",
   "metadata": {},
   "source": [
    "#### 13. Does *e* equal to *a*? Why or why not?\n"
   ]
  },
  {
   "cell_type": "code",
   "execution_count": 151,
   "metadata": {},
   "outputs": [
    {
     "name": "stdout",
     "output_type": "stream",
     "text": [
      "[[[ True  True  True  True  True]\n",
      "  [ True  True  True  True  True]\n",
      "  [ True  True  True  True  True]]\n",
      "\n",
      " [[ True  True  True  True  True]\n",
      "  [ True  True  True  True  True]\n",
      "  [ True  True  True  True  True]]]\n"
     ]
    }
   ],
   "source": [
    "print(e==a)\n",
    "\n",
    "#Yes, e equals to a. Because e=a*c and c is an array of values 1"
   ]
  },
  {
   "cell_type": "markdown",
   "metadata": {},
   "source": [
    "#### 14. Identify the max, min, and mean values in *d*. Assign those values to variables *d_max*, *d_min* and *d_mean*."
   ]
  },
  {
   "cell_type": "code",
   "execution_count": 152,
   "metadata": {},
   "outputs": [
    {
     "name": "stdout",
     "output_type": "stream",
     "text": [
      "[[[ 2  6  4  7  1]\n",
      "  [ 1  7  5  3  6]\n",
      "  [ 3  7  4  9 10]]\n",
      "\n",
      " [[10  5  7  8  6]\n",
      "  [ 9  6  5  2  3]\n",
      "  [ 6  6  5  4  1]]]\n",
      "10\n",
      "1\n",
      "5.266666666666667\n"
     ]
    }
   ],
   "source": [
    "d_max=np.max(d)\n",
    "d_min=np.min(d)\n",
    "d_mean=np.mean(d)\n",
    "\n",
    "print(d)\n",
    "print(d_max)\n",
    "print(d_min)\n",
    "print(d_mean)"
   ]
  },
  {
   "cell_type": "markdown",
   "metadata": {},
   "source": [
    "#### 15. Now we want to label the values in *d*. First create an empty array *f* with the same shape (i.e. 2x3x5) as *d* using `np.empty`.\n"
   ]
  },
  {
   "cell_type": "code",
   "execution_count": 153,
   "metadata": {},
   "outputs": [
    {
     "name": "stdout",
     "output_type": "stream",
     "text": [
      "[[[1.85836099 1.67064465 1.62576044 1.40243961 1.88454931]\n",
      "  [1.75354326 1.69403643 1.36729252 1.61415071 1.12104981]\n",
      "  [1.72201435 1.1862918  1.87078449 1.7726778  1.88180042]]\n",
      "\n",
      " [[1.44747908 1.31673383 1.02000951 1.52218947 1.97066381]\n",
      "  [1.79129243 1.74983003 1.96028037 1.85166831 1.65450881]\n",
      "  [1.18068344 1.9587381  1.00656599 1.93402165 1.73514584]]]\n"
     ]
    }
   ],
   "source": [
    "f=np.empty([2,3,5])\n",
    "print(f)"
   ]
  },
  {
   "cell_type": "markdown",
   "metadata": {},
   "source": [
    "#### 16. Populate the values in *f*. \n",
    "\n",
    "For each value in *d*, if it's larger than *d_min* but smaller than *d_mean*, assign 25 to the corresponding value in *f*. If a value in *d* is larger than *d_mean* but smaller than *d_max*, assign 75 to the corresponding value in *f*. If a value equals to *d_mean*, assign 50 to the corresponding value in *f*. Assign 0 to the corresponding value(s) in *f* for *d_min* in *d*. Assign 100 to the corresponding value(s) in *f* for *d_max* in *d*. In the end, f should have only the following values: 0, 25, 50, 75, and 100.\n",
    "\n",
    "**Note**: you don't have to use Numpy in this question."
   ]
  },
  {
   "cell_type": "code",
   "execution_count": 154,
   "metadata": {},
   "outputs": [
    {
     "name": "stdout",
     "output_type": "stream",
     "text": [
      "[[[[ 25  75  25  75   0]\n",
      "   [  0  75  25  25  75]\n",
      "   [ 25  75  25  75 100]]\n",
      "\n",
      "  [[100  25  75  75  75]\n",
      "   [ 75  75  25  25  25]\n",
      "   [ 75  75  25  25   0]]]]\n"
     ]
    },
    {
     "data": {
      "text/plain": [
       "array([[[[ 25,  75,  25,  75,   0],\n",
       "         [  0,  75,  25,  25,  75],\n",
       "         [ 25,  75,  25,  75, 100]],\n",
       "\n",
       "        [[100,  25,  75,  75,  75],\n",
       "         [ 75,  75,  25,  25,  25],\n",
       "         [ 75,  75,  25,  25,   0]]]])"
      ]
     },
     "execution_count": 154,
     "metadata": {},
     "output_type": "execute_result"
    }
   ],
   "source": [
    "def populate_f(my_array):\n",
    "    \n",
    "    d_max=np.max(my_array)\n",
    "    d_min=np.min(my_array)\n",
    "    d_mean=np.mean(my_array)\n",
    "    \n",
    "    f_temp1=np.array([(d>d_min)&(d<d_mean)])*25\n",
    "    f_temp2=np.array([(d<d_max)&(d>d_mean)])*75\n",
    "    f_temp3=np.array([(d==d_mean)])*50\n",
    "    f_temp4=np.array([(d==d_min)])*0\n",
    "    f_temp5=np.array([(d==d_max)])*100\n",
    "\n",
    "    f=f_temp1+f_temp2+f_temp3+f_temp4+f_temp5\n",
    "    \n",
    "    print(f)\n",
    "    return f\n",
    "\n",
    "populate_f(d)"
   ]
  },
  {
   "cell_type": "markdown",
   "metadata": {},
   "source": [
    "#### 17. Print *d* and *f*. Do you have your expected *f*?\n",
    "For instance, if your *d* is:\n",
    "```python\n",
    "[[[1.85836099, 1.67064465, 1.62576044, 1.40243961, 1.88454931],\n",
    "[1.75354326, 1.69403643, 1.36729252, 1.61415071, 1.12104981],\n",
    "[1.72201435, 1.1862918 , 1.87078449, 1.7726778 , 1.88180042]],\n",
    "[[1.44747908, 1.31673383, 1.02000951, 1.52218947, 1.97066381],\n",
    "[1.79129243, 1.74983003, 1.96028037, 1.85166831, 1.65450881],\n",
    "[1.18068344, 1.9587381 , 1.00656599, 1.93402165, 1.73514584]]]\n",
    "```\n",
    "Your *f* should be:\n",
    "```python\n",
    "[[[ 75.,  75.,  75.,  25.,  75.],\n",
    "[ 75.,  75.,  25.,  25.,  25.],\n",
    "[ 75.,  25.,  75.,  75.,  75.]],\n",
    "[[ 25.,  25.,  25.,  25., 100.],\n",
    "[ 75.,  75.,  75.,  75.,  75.],\n",
    "[ 25.,  75.,   0.,  75.,  75.]]]\n",
    "```"
   ]
  },
  {
   "cell_type": "code",
   "execution_count": 155,
   "metadata": {},
   "outputs": [
    {
     "name": "stdout",
     "output_type": "stream",
     "text": [
      "[[[[ 75  75  75  25  75]\n",
      "   [ 75  75  25  25  25]\n",
      "   [ 75  25  75  75  75]]\n",
      "\n",
      "  [[ 25  25  25  25 100]\n",
      "   [ 75  75  75  75  75]\n",
      "   [ 25  75   0  75  75]]]]\n"
     ]
    },
    {
     "data": {
      "text/plain": [
       "array([[[[ 75,  75,  75,  25,  75],\n",
       "         [ 75,  75,  25,  25,  25],\n",
       "         [ 75,  25,  75,  75,  75]],\n",
       "\n",
       "        [[ 25,  25,  25,  25, 100],\n",
       "         [ 75,  75,  75,  75,  75],\n",
       "         [ 25,  75,   0,  75,  75]]]])"
      ]
     },
     "execution_count": 155,
     "metadata": {},
     "output_type": "execute_result"
    }
   ],
   "source": [
    "d=[[[1.85836099, 1.67064465, 1.62576044, 1.40243961, 1.88454931],\n",
    "[1.75354326, 1.69403643, 1.36729252, 1.61415071, 1.12104981],\n",
    "[1.72201435, 1.1862918 , 1.87078449, 1.7726778 , 1.88180042]],\n",
    "[[1.44747908, 1.31673383, 1.02000951, 1.52218947, 1.97066381],\n",
    "[1.79129243, 1.74983003, 1.96028037, 1.85166831, 1.65450881],\n",
    "[1.18068344, 1.9587381 , 1.00656599, 1.93402165, 1.73514584]]]\n",
    "\n",
    "populate_f(d)"
   ]
  },
  {
   "cell_type": "markdown",
   "metadata": {},
   "source": [
    "#### 18. Bonus question: instead of using numbers (i.e. 0, 25, 50, 75, and 100), use string values  (\"A\", \"B\", \"C\", \"D\", and \"E\") to label the array elements. For the example above, the expected result is:\n",
    "\n",
    "```python\n",
    "[[[ 'D',  'D',  'D',  'B',  'D'],\n",
    "[ 'D',  'D',  'B',  'B',  'B'],\n",
    "[ 'D',  'B',  'D',  'D',  'D']],\n",
    "[[ 'B',  'B',  'B',  'B',  'E'],\n",
    "[ 'D',  'D',  'D',  'D',  'D'],\n",
    "[ 'B',  'D',   'A',  'D', 'D']]]\n",
    "```\n",
    "**Note**: you don't have to use Numpy in this question."
   ]
  },
  {
   "cell_type": "code",
   "execution_count": null,
   "metadata": {},
   "outputs": [],
   "source": []
  }
 ],
 "metadata": {
  "kernelspec": {
   "display_name": "Python 3",
   "language": "python",
   "name": "python3"
  },
  "language_info": {
   "codemirror_mode": {
    "name": "ipython",
    "version": 3
   },
   "file_extension": ".py",
   "mimetype": "text/x-python",
   "name": "python",
   "nbconvert_exporter": "python",
   "pygments_lexer": "ipython3",
   "version": "3.7.6"
  }
 },
 "nbformat": 4,
 "nbformat_minor": 2
}
